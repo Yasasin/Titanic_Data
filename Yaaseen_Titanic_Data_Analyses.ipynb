{
 "cells": [
  {
   "cell_type": "code",
   "execution_count": 118,
   "metadata": {},
   "outputs": [
    {
     "name": "stdout",
     "output_type": "stream",
     "text": [
      "Introduction:\n",
      "The purpose of this report is to investigate the titanic data and create questions in order to find out how certain factors\n",
      "effects the survival rate.\n",
      "The data contains information about 891 passengers who boarded the titanic\n",
      "\n",
      "Questions we will investigate are:\n",
      "->Does the class affect the the survival rate?\n",
      "->Does Age have anything to do with survival rate?\n",
      "\n",
      "Data Handling:\n",
      "Before we start to analyse we will cleanup the data namely:\n",
      "->Removing unnecessary columns I will not be using\n",
      "->Removing passengers with missing datasets i.e. Age\n",
      "->Removing Duplicate data so that information is more accurate\n"
     ]
    }
   ],
   "source": [
    "print('Introduction:\\nThe purpose of this report is to investigate the titanic data and create questions in order to find out how certain factors\\neffects the survival rate.\\nThe data contains information about 891 passengers who boarded the titanic\\n')\n",
    "print('Questions we will investigate are:\\n->Does the class affect the the survival rate?\\n->Does Age have anything to do with survival rate?\\n')\n",
    "print('Data Handling:\\nBefore we start to analyse we will cleanup the data namely:\\n->Removing unneccsary columns I will not be using\\n->Removing passengers with missing datasets i.e. Age\\n->Removing Duplicate data so that information is more accurate')"
   ]
  },
  {
   "cell_type": "code",
   "execution_count": 119,
   "metadata": {},
   "outputs": [],
   "source": [
    "import pandas as pd\n",
    "import numpy as np\n",
    "import matplotlib.pyplot as plt\n",
    "import seaborn as sns\n",
    "import pdb\n",
    "%matplotlib inline"
   ]
  },
  {
   "cell_type": "code",
   "execution_count": 120,
   "metadata": {},
   "outputs": [],
   "source": [
    "#check if the data reads in correctly & show head to make sure"
   ]
  },
  {
   "cell_type": "code",
   "execution_count": 121,
   "metadata": {},
   "outputs": [
    {
     "data": {
      "text/html": [
       "<div>\n",
       "<style scoped>\n",
       "    .dataframe tbody tr th:only-of-type {\n",
       "        vertical-align: middle;\n",
       "    }\n",
       "\n",
       "    .dataframe tbody tr th {\n",
       "        vertical-align: top;\n",
       "    }\n",
       "\n",
       "    .dataframe thead th {\n",
       "        text-align: right;\n",
       "    }\n",
       "</style>\n",
       "<table border=\"1\" class=\"dataframe\">\n",
       "  <thead>\n",
       "    <tr style=\"text-align: right;\">\n",
       "      <th></th>\n",
       "      <th>PassengerId</th>\n",
       "      <th>Survived</th>\n",
       "      <th>Pclass</th>\n",
       "      <th>Name</th>\n",
       "      <th>Sex</th>\n",
       "      <th>Age</th>\n",
       "      <th>SibSp</th>\n",
       "      <th>Parch</th>\n",
       "      <th>Ticket</th>\n",
       "      <th>Fare</th>\n",
       "      <th>Cabin</th>\n",
       "      <th>Embarked</th>\n",
       "    </tr>\n",
       "  </thead>\n",
       "  <tbody>\n",
       "    <tr>\n",
       "      <th>0</th>\n",
       "      <td>1</td>\n",
       "      <td>0</td>\n",
       "      <td>3</td>\n",
       "      <td>Braund, Mr. Owen Harris</td>\n",
       "      <td>male</td>\n",
       "      <td>22.0</td>\n",
       "      <td>1</td>\n",
       "      <td>0</td>\n",
       "      <td>A/5 21171</td>\n",
       "      <td>7.2500</td>\n",
       "      <td>NaN</td>\n",
       "      <td>S</td>\n",
       "    </tr>\n",
       "    <tr>\n",
       "      <th>1</th>\n",
       "      <td>2</td>\n",
       "      <td>1</td>\n",
       "      <td>1</td>\n",
       "      <td>Cumings, Mrs. John Bradley (Florence Briggs Th...</td>\n",
       "      <td>female</td>\n",
       "      <td>38.0</td>\n",
       "      <td>1</td>\n",
       "      <td>0</td>\n",
       "      <td>PC 17599</td>\n",
       "      <td>71.2833</td>\n",
       "      <td>C85</td>\n",
       "      <td>C</td>\n",
       "    </tr>\n",
       "    <tr>\n",
       "      <th>2</th>\n",
       "      <td>3</td>\n",
       "      <td>1</td>\n",
       "      <td>3</td>\n",
       "      <td>Heikkinen, Miss. Laina</td>\n",
       "      <td>female</td>\n",
       "      <td>26.0</td>\n",
       "      <td>0</td>\n",
       "      <td>0</td>\n",
       "      <td>STON/O2. 3101282</td>\n",
       "      <td>7.9250</td>\n",
       "      <td>NaN</td>\n",
       "      <td>S</td>\n",
       "    </tr>\n",
       "    <tr>\n",
       "      <th>3</th>\n",
       "      <td>4</td>\n",
       "      <td>1</td>\n",
       "      <td>1</td>\n",
       "      <td>Futrelle, Mrs. Jacques Heath (Lily May Peel)</td>\n",
       "      <td>female</td>\n",
       "      <td>35.0</td>\n",
       "      <td>1</td>\n",
       "      <td>0</td>\n",
       "      <td>113803</td>\n",
       "      <td>53.1000</td>\n",
       "      <td>C123</td>\n",
       "      <td>S</td>\n",
       "    </tr>\n",
       "    <tr>\n",
       "      <th>4</th>\n",
       "      <td>5</td>\n",
       "      <td>0</td>\n",
       "      <td>3</td>\n",
       "      <td>Allen, Mr. William Henry</td>\n",
       "      <td>male</td>\n",
       "      <td>35.0</td>\n",
       "      <td>0</td>\n",
       "      <td>0</td>\n",
       "      <td>373450</td>\n",
       "      <td>8.0500</td>\n",
       "      <td>NaN</td>\n",
       "      <td>S</td>\n",
       "    </tr>\n",
       "  </tbody>\n",
       "</table>\n",
       "</div>"
      ],
      "text/plain": [
       "   PassengerId  Survived  Pclass  \\\n",
       "0            1         0       3   \n",
       "1            2         1       1   \n",
       "2            3         1       3   \n",
       "3            4         1       1   \n",
       "4            5         0       3   \n",
       "\n",
       "                                                Name     Sex   Age  SibSp  \\\n",
       "0                            Braund, Mr. Owen Harris    male  22.0      1   \n",
       "1  Cumings, Mrs. John Bradley (Florence Briggs Th...  female  38.0      1   \n",
       "2                             Heikkinen, Miss. Laina  female  26.0      0   \n",
       "3       Futrelle, Mrs. Jacques Heath (Lily May Peel)  female  35.0      1   \n",
       "4                           Allen, Mr. William Henry    male  35.0      0   \n",
       "\n",
       "   Parch            Ticket     Fare Cabin Embarked  \n",
       "0      0         A/5 21171   7.2500   NaN        S  \n",
       "1      0          PC 17599  71.2833   C85        C  \n",
       "2      0  STON/O2. 3101282   7.9250   NaN        S  \n",
       "3      0            113803  53.1000  C123        S  \n",
       "4      0            373450   8.0500   NaN        S  "
      ]
     },
     "execution_count": 121,
     "metadata": {},
     "output_type": "execute_result"
    }
   ],
   "source": [
    "titanic_data = pd.read_csv('titanic.csv') \n",
    "titanic_data.head()"
   ]
  },
  {
   "cell_type": "code",
   "execution_count": 122,
   "metadata": {},
   "outputs": [],
   "source": [
    "#removing all the duplicate data so that analysis is more accurate"
   ]
  },
  {
   "cell_type": "code",
   "execution_count": 123,
   "metadata": {},
   "outputs": [
    {
     "name": "stdout",
     "output_type": "stream",
     "text": [
      "Number of duplicate entries is/are 0\n"
     ]
    }
   ],
   "source": [
    "titanic_data_duplicates_remove = titanic_data.duplicated() \n",
    "print ('Number of duplicate entries is/are {}'.format(titanic_data_duplicates_remove.sum()))"
   ]
  },
  {
   "cell_type": "code",
   "execution_count": 124,
   "metadata": {},
   "outputs": [
    {
     "name": "stdout",
     "output_type": "stream",
     "text": [
      "Show the handled data:\n"
     ]
    },
    {
     "data": {
      "text/html": [
       "<div>\n",
       "<style scoped>\n",
       "    .dataframe tbody tr th:only-of-type {\n",
       "        vertical-align: middle;\n",
       "    }\n",
       "\n",
       "    .dataframe tbody tr th {\n",
       "        vertical-align: top;\n",
       "    }\n",
       "\n",
       "    .dataframe thead th {\n",
       "        text-align: right;\n",
       "    }\n",
       "</style>\n",
       "<table border=\"1\" class=\"dataframe\">\n",
       "  <thead>\n",
       "    <tr style=\"text-align: right;\">\n",
       "      <th></th>\n",
       "      <th>Survived</th>\n",
       "      <th>Pclass</th>\n",
       "      <th>Sex</th>\n",
       "      <th>Age</th>\n",
       "      <th>SibSp</th>\n",
       "      <th>Parch</th>\n",
       "    </tr>\n",
       "  </thead>\n",
       "  <tbody>\n",
       "    <tr>\n",
       "      <th>0</th>\n",
       "      <td>0</td>\n",
       "      <td>3</td>\n",
       "      <td>male</td>\n",
       "      <td>22.0</td>\n",
       "      <td>1</td>\n",
       "      <td>0</td>\n",
       "    </tr>\n",
       "    <tr>\n",
       "      <th>1</th>\n",
       "      <td>1</td>\n",
       "      <td>1</td>\n",
       "      <td>female</td>\n",
       "      <td>38.0</td>\n",
       "      <td>1</td>\n",
       "      <td>0</td>\n",
       "    </tr>\n",
       "    <tr>\n",
       "      <th>2</th>\n",
       "      <td>1</td>\n",
       "      <td>3</td>\n",
       "      <td>female</td>\n",
       "      <td>26.0</td>\n",
       "      <td>0</td>\n",
       "      <td>0</td>\n",
       "    </tr>\n",
       "    <tr>\n",
       "      <th>3</th>\n",
       "      <td>1</td>\n",
       "      <td>1</td>\n",
       "      <td>female</td>\n",
       "      <td>35.0</td>\n",
       "      <td>1</td>\n",
       "      <td>0</td>\n",
       "    </tr>\n",
       "    <tr>\n",
       "      <th>4</th>\n",
       "      <td>0</td>\n",
       "      <td>3</td>\n",
       "      <td>male</td>\n",
       "      <td>35.0</td>\n",
       "      <td>0</td>\n",
       "      <td>0</td>\n",
       "    </tr>\n",
       "  </tbody>\n",
       "</table>\n",
       "</div>"
      ],
      "text/plain": [
       "   Survived  Pclass     Sex   Age  SibSp  Parch\n",
       "0         0       3    male  22.0      1      0\n",
       "1         1       1  female  38.0      1      0\n",
       "2         1       3  female  26.0      0      0\n",
       "3         1       1  female  35.0      1      0\n",
       "4         0       3    male  35.0      0      0"
      ]
     },
     "execution_count": 124,
     "metadata": {},
     "output_type": "execute_result"
    }
   ],
   "source": [
    "print('Show the handled data:')\n",
    "titanic_data_handled = titanic_data.drop(['PassengerId','Name','Ticket','Cabin','Fare','Embarked'], axis=1) \n",
    "titanic_data_handled.head()"
   ]
  },
  {
   "cell_type": "code",
   "execution_count": 125,
   "metadata": {},
   "outputs": [],
   "source": [
    "#check each column and the amount of missing data"
   ]
  },
  {
   "cell_type": "code",
   "execution_count": 126,
   "metadata": {},
   "outputs": [
    {
     "data": {
      "text/plain": [
       "Survived      0\n",
       "Pclass        0\n",
       "Sex           0\n",
       "Age         177\n",
       "SibSp         0\n",
       "Parch         0\n",
       "dtype: int64"
      ]
     },
     "execution_count": 126,
     "metadata": {},
     "output_type": "execute_result"
    }
   ],
   "source": [
    "titanic_data_handled.isnull().sum() #check each column for count of missin cells"
   ]
  },
  {
   "cell_type": "code",
   "execution_count": 127,
   "metadata": {},
   "outputs": [
    {
     "name": "stdout",
     "output_type": "stream",
     "text": [
      "What does this tell us: we know that the missing data will affect the analysis because it is quite a large of missing age data. This needs to be taken into account\n"
     ]
    }
   ],
   "source": [
    "#Have a look at some of the tuples with missing data\n",
    "print('What does this tell us: we know that the missing data will affect the analysis because it is quite a large of missing age data. This needs to be taken into account')"
   ]
  },
  {
   "cell_type": "code",
   "execution_count": 128,
   "metadata": {},
   "outputs": [
    {
     "name": "stdout",
     "output_type": "stream",
     "text": [
      "show proof of missing data in age column\n"
     ]
    },
    {
     "data": {
      "text/html": [
       "<div>\n",
       "<style scoped>\n",
       "    .dataframe tbody tr th:only-of-type {\n",
       "        vertical-align: middle;\n",
       "    }\n",
       "\n",
       "    .dataframe tbody tr th {\n",
       "        vertical-align: top;\n",
       "    }\n",
       "\n",
       "    .dataframe thead th {\n",
       "        text-align: right;\n",
       "    }\n",
       "</style>\n",
       "<table border=\"1\" class=\"dataframe\">\n",
       "  <thead>\n",
       "    <tr style=\"text-align: right;\">\n",
       "      <th></th>\n",
       "      <th>Survived</th>\n",
       "      <th>Pclass</th>\n",
       "      <th>Sex</th>\n",
       "      <th>Age</th>\n",
       "      <th>SibSp</th>\n",
       "      <th>Parch</th>\n",
       "    </tr>\n",
       "  </thead>\n",
       "  <tbody>\n",
       "    <tr>\n",
       "      <th>5</th>\n",
       "      <td>0</td>\n",
       "      <td>3</td>\n",
       "      <td>male</td>\n",
       "      <td>NaN</td>\n",
       "      <td>0</td>\n",
       "      <td>0</td>\n",
       "    </tr>\n",
       "    <tr>\n",
       "      <th>17</th>\n",
       "      <td>1</td>\n",
       "      <td>2</td>\n",
       "      <td>male</td>\n",
       "      <td>NaN</td>\n",
       "      <td>0</td>\n",
       "      <td>0</td>\n",
       "    </tr>\n",
       "    <tr>\n",
       "      <th>19</th>\n",
       "      <td>1</td>\n",
       "      <td>3</td>\n",
       "      <td>female</td>\n",
       "      <td>NaN</td>\n",
       "      <td>0</td>\n",
       "      <td>0</td>\n",
       "    </tr>\n",
       "    <tr>\n",
       "      <th>26</th>\n",
       "      <td>0</td>\n",
       "      <td>3</td>\n",
       "      <td>male</td>\n",
       "      <td>NaN</td>\n",
       "      <td>0</td>\n",
       "      <td>0</td>\n",
       "    </tr>\n",
       "    <tr>\n",
       "      <th>28</th>\n",
       "      <td>1</td>\n",
       "      <td>3</td>\n",
       "      <td>female</td>\n",
       "      <td>NaN</td>\n",
       "      <td>0</td>\n",
       "      <td>0</td>\n",
       "    </tr>\n",
       "  </tbody>\n",
       "</table>\n",
       "</div>"
      ],
      "text/plain": [
       "    Survived  Pclass     Sex  Age  SibSp  Parch\n",
       "5          0       3    male  NaN      0      0\n",
       "17         1       2    male  NaN      0      0\n",
       "19         1       3  female  NaN      0      0\n",
       "26         0       3    male  NaN      0      0\n",
       "28         1       3  female  NaN      0      0"
      ]
     },
     "execution_count": 128,
     "metadata": {},
     "output_type": "execute_result"
    }
   ],
   "source": [
    "print('show proof of missing data in age column')\n",
    "empty_age_bool = pd.isnull(titanic_data_handled['Age']) \n",
    "titanic_data_handled[empty_age_bool].head()"
   ]
  },
  {
   "cell_type": "code",
   "execution_count": 129,
   "metadata": {},
   "outputs": [
    {
     "name": "stdout",
     "output_type": "stream",
     "text": [
      "Number for females and males with age missing are 53 and 124 respectively\n",
      "the results are correct because it adds up to 177 which was found in the previous investigation\n"
     ]
    }
   ],
   "source": [
    "missing_age_female = titanic_data_handled[missing_age_bool]['Sex'] == 'female' \n",
    "missing_age_male = titanic_data_handled[missing_age_bool]['Sex'] == 'male'\n",
    "\n",
    "print ('Number for females and males with age missing are {} and {} respectively'.format( missing_age_female.sum(),missing_age_male.sum()))\n",
    "print('the results are correct because it adds up to 177 which was found in the previous investigation')"
   ]
  },
  {
   "cell_type": "code",
   "execution_count": 130,
   "metadata": {},
   "outputs": [],
   "source": [
    "#Question 1: does the class affect the the survival rate?"
   ]
  },
  {
   "cell_type": "code",
   "execution_count": 131,
   "metadata": {},
   "outputs": [],
   "source": [
    "def survival_rate(pclass, sex): \n",
    "    \"\"\" Args: pclass: class value 1,2 or 3 sex: male or female Returns: survival rate as percentage. \"\"\" \n",
    "    grouping_by_total = titanic_data_handled.groupby(['Pclass', 'Sex']).size()[pclass,sex].astype('float') \n",
    "    grouping_by_survival_sex = titanic_data_handled.groupby(['Pclass','Survived','Sex']).size()[pclass,1,sex].astype('float') \n",
    "    survived_sex_pct = (grouping_by_survival_sex / grouping_by_total * 100).round(2)\n",
    "    return survived_sex_pct"
   ]
  },
  {
   "cell_type": "code",
   "execution_count": 132,
   "metadata": {},
   "outputs": [],
   "source": [
    "groupedby_class_survived_size = titanic_data_handled.groupby(['Pclass','Survived','Sex']).size()"
   ]
  },
  {
   "cell_type": "code",
   "execution_count": 133,
   "metadata": {},
   "outputs": [
    {
     "name": "stdout",
     "output_type": "stream",
     "text": [
      "Pclass  Survived  Sex   \n",
      "1       0         female      3\n",
      "                  male       77\n",
      "        1         female     91\n",
      "                  male       45\n",
      "2       0         female      6\n",
      "                  male       91\n",
      "        1         female     70\n",
      "                  male       17\n",
      "3       0         female     72\n",
      "                  male      300\n",
      "        1         female     72\n",
      "                  male       47\n",
      "dtype: int64\n",
      "Class 1 - female survival rate: 96.81%|\n",
      "Class 1 - male survival rate: 36.89%  |\n",
      "---------------------------------------\n",
      "Class 2 - female survival rate: 92.11%|\n",
      "Class 2 - male survival rate: 15.74%  |\n",
      "---------------------------------------\n",
      "Class 3 - female survival rate: 50.0% |\n",
      "Class 3 - male survival rate: 13.54%  |\n"
     ]
    }
   ],
   "source": [
    "print (groupedby_class_survived_size) \n",
    "print (('Class 1 - female survival rate: {}%|'.format(survival_rate(1,'female')))) \n",
    "print ('Class 1 - male survival rate: {}%  |'.format(survival_rate(1,'male')))\n",
    "print ('---------------------------------------') \n",
    "print ('Class 2 - female survival rate: {}%|'.format(survival_rate(2,'female'))) \n",
    "print ('Class 2 - male survival rate: {}%  |'.format(survival_rate(2,'male'))) \n",
    "print ('---------------------------------------') \n",
    "print ('Class 3 - female survival rate: {}% |'.format(survival_rate(3,'female'))) \n",
    "print ('Class 3 - male survival rate: {}%  |'.format(survival_rate(3,'male')))"
   ]
  },
  {
   "cell_type": "code",
   "execution_count": 134,
   "metadata": {},
   "outputs": [
    {
     "name": "stdout",
     "output_type": "stream",
     "text": [
      "1 means survived and 0 means died\n"
     ]
    },
    {
     "data": {
      "image/png": "[encoded data removed]",
      "text/plain": [
       "<matplotlib.figure.Figure at 0x51e81b9550>"
      ]
     },
     "metadata": {},
     "output_type": "display_data"
    }
   ],
   "source": [
    "print('1 means survived and 0 means died')\n",
    "\n",
    "\n",
    "Survival_classes.set_axis_labels('', 'Survival Rate') .set_xticklabels([\"Men\", \"Women\"]) .set_titles(\"Class {col_name}\") .set(ylim=(0, 1)) .despine(left=True, bottom=True)\n",
    "Survival_classes= sns.factorplot('Survived', col='Sex', hue='Pclass', data=titanic_data_handled, kind='count', size=7, aspect=.8)\n"
   ]
  },
  {
   "cell_type": "code",
   "execution_count": 135,
   "metadata": {},
   "outputs": [
    {
     "name": "stdout",
     "output_type": "stream",
     "text": [
      "Based on the graph we can see that females in the the lower class has a similar survival rate \n",
      "In the upper class 119 and 136 passengers had survived \n",
      "But if you look at the percentages from the table of all individuals per class and numbers across each class, we can make a statement that people in the upper class have 2.5 times more chance of survival than the lower class \n"
     ]
    }
   ],
   "source": [
    "\n",
    "print('Based on the graph we can see that females in the the lower class has a similar survival rate \\nIn the upper class 119 and 136 passengers had survived \\nBut if you look at the percentages from the table of all individuals per class and numbers across each class, we can make a statement that people in the upper class have 2.5 times more chance of survival than the lower class ')"
   ]
  },
  {
   "cell_type": "code",
   "execution_count": 136,
   "metadata": {},
   "outputs": [],
   "source": [
    "#Question 2: Does Age have anything to do with survival rate?"
   ]
  },
  {
   "cell_type": "code",
   "execution_count": 137,
   "metadata": {},
   "outputs": [
    {
     "name": "stdout",
     "output_type": "stream",
     "text": [
      "Number of men and woman with age missing are 53 and 124 respectively\n"
     ]
    }
   ],
   "source": [
    "#get rid of empty age cells\n",
    "print ('Number of men and woman with age missing are {} and {} respectively'.format( missing_age_female.sum(),missing_age_male.sum()))"
   ]
  },
  {
   "cell_type": "code",
   "execution_count": 138,
   "metadata": {},
   "outputs": [],
   "source": [
    "titanic_data_age_handled = titanic_data_handled.dropna()"
   ]
  },
  {
   "cell_type": "code",
   "execution_count": 139,
   "metadata": {},
   "outputs": [],
   "source": [
    "Total_number_survived = titanic_data_age_handled[titanic_data_age_handled['Survived'] == True]['Survived'].count() \n",
    "Total_number_died = titanic_data_age_handled[titanic_data_age_handled['Survived'] == False]['Survived'].count()"
   ]
  },
  {
   "cell_type": "code",
   "execution_count": 140,
   "metadata": {},
   "outputs": [],
   "source": [
    "mean_age_survived = titanic_data_age_handled[titanic_data_age_handled['Survived'] == True]['Age'].mean() \n",
    "mean_age_died = titanic_data_age_handled[titanic_data_age_handled['Survived'] == False]['Age'].mean()"
   ]
  },
  {
   "cell_type": "code",
   "execution_count": 141,
   "metadata": {},
   "outputs": [],
   "source": [
    "oldest_to_survive = titanic_data_handled[titanic_data_handled['Survived'] == True]['Age'].max() \n",
    "oldest_to_die = titanic_data_handled[titanic_data_handled['Survived'] == False]['Age'].max()"
   ]
  },
  {
   "cell_type": "code",
   "execution_count": 142,
   "metadata": {},
   "outputs": [
    {
     "name": "stdout",
     "output_type": "stream",
     "text": [
      "Total # of survivors 290 \n",
      "Total # of non survivors 424 \n",
      "Mean age of survivors 28.0 \n",
      "Mean age of non survivors 31.0 \n",
      "Oldest to survive 80.0 \n",
      "Oldest to not survive 74.0\n"
     ]
    }
   ],
   "source": [
    "print ('Total # of survivors {} \\nTotal # of non survivors {} \\nMean age of survivors {} \\nMean age of non survivors {} \\nOldest to survive {} \\nOldest to not survive {}'.format(number_survived, number_died, np.round(mean_age_survived), np.round(mean_age_died), oldest_to_survive, oldest_to_die))"
   ]
  },
  {
   "cell_type": "code",
   "execution_count": 143,
   "metadata": {},
   "outputs": [
    {
     "name": "stdout",
     "output_type": "stream",
     "text": [
      "Based on the findings we can see that: \n",
      "-> Age does not play a part in the survival rate \n",
      "-> As you can see the survival rate average for males and females are relatively inline thus we can make this assumption\n"
     ]
    },
    {
     "data": {
      "image/png": "[encoded data removed]",
      "text/plain": [
       "<matplotlib.figure.Figure at 0x51e730e518>"
      ]
     },
     "metadata": {},
     "output_type": "display_data"
    }
   ],
   "source": [
    "\n",
    "Age_of_Passengers_breakdown = sns.factorplot(x=\"Survived\", y=\"Age\", hue='Sex', data=titanic_data_age_cleaned, kind=\"box\", size=7, aspect=.8)\n",
    "(Age_of_Passengers_breakdown.set_axis_labels('Suvivors', 'Age of Passengers') .set_xticklabels([\"Died\", \"Survived\"]) )\n",
    "print ('Based on the findings we can see that: \\n-> Age does not play a part in the survival rate \\n-> As you can see the survival rate average for males and females are relatively inline thus we can make this assumption')"
   ]
  },
  {
   "cell_type": "code",
   "execution_count": null,
   "metadata": {},
   "outputs": [],
   "source": []
  },
  {
   "cell_type": "code",
   "execution_count": 144,
   "metadata": {},
   "outputs": [
    {
     "name": "stdout",
     "output_type": "stream",
     "text": [
      "Conclusion\n",
      "In the analysis that I have compiled, although some data are uncertain, it appears that Class and Sex mainly being a female in upper_class has the best chance of survival during the calamity. The Age factor does not seem to affect the survival rate. However being a male in lower class would have the the slimest chance of survival\n"
     ]
    }
   ],
   "source": [
    "print('Conclusion')\n",
    "print('In the analysis that I have compiled, although some data are uncertain, it appears that Class and Sex mainly being a female in upper_class has the best chance of survival during the calamity. The Age factor does not seem to affect the survival rate. However being a male in lower class would have the the slimest chance of survival')"
   ]
  },
  {
   "cell_type": "code",
   "execution_count": null,
   "metadata": {},
   "outputs": [],
   "source": []
  }
 ],
 "metadata": {
  "kernelspec": {
   "display_name": "Python 3",
   "language": "python",
   "name": "python3"
  },
  "language_info": {
   "codemirror_mode": {
    "name": "ipython",
    "version": 3
   },
   "file_extension": ".py",
   "mimetype": "text/x-python",
   "name": "python",
   "nbconvert_exporter": "python",
   "pygments_lexer": "ipython3",
   "version": "3.6.4"
  }
 },
 "nbformat": 4,
 "nbformat_minor": 2
}
